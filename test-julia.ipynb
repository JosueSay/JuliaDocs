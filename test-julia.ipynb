{
 "cells": [
  {
   "cell_type": "markdown",
   "id": "dfa7248e",
   "metadata": {},
   "source": [
    "# Gestión de Entornos Virtuales y Paquetes con Pkg.jl en Julia\n",
    "\n",
    "En este notebook aprenderás a:\n",
    "\n",
    "- Activar un entorno virtual con `Pkg.activate`.\n",
    "- Instalar paquetes como `DataFrames` o `JuMP`.\n",
    "- Ver el estado de los paquetes con `Pkg.status`.\n",
    "- Salir del entorno virtual.\n",
    "- Restaurar un entorno a partir de un archivo `Project.toml`.\n",
    "\n",
    "> Todo se guarda automáticamente en los archivos `Project.toml` y `Manifest.toml` mientras el entorno esté activado."
   ]
  },
  {
   "cell_type": "code",
   "execution_count": null,
   "id": "38596ff7",
   "metadata": {},
   "outputs": [],
   "source": [
    "using Pkg\n",
    "\n",
    "# Activar entorno en la carpeta actual\n",
    "Pkg.activate(\".\")\n",
    "\n",
    "# Verificar en qué entorno estamos\n",
    "Pkg.status()"
   ]
  },
  {
   "cell_type": "markdown",
   "id": "44e2900e",
   "metadata": {},
   "source": [
    "## Instalar primer paquete y ver estado\n",
    "\n",
    "Ahora instalamos el paquete `DataFrames`, que será agregado automáticamente al archivo `Project.toml`."
   ]
  },
  {
   "cell_type": "code",
   "execution_count": null,
   "id": "1b472ba2",
   "metadata": {},
   "outputs": [],
   "source": [
    "Pkg.add(\"DataFrames\")\n",
    "Pkg.status()"
   ]
  },
  {
   "cell_type": "markdown",
   "id": "24d289db",
   "metadata": {},
   "source": [
    "## Instalar otra librería después\n",
    "\n",
    "Cualquier otro paquete que agreguemos también quedará registrado. Ahora agregaremos `JuMP`."
   ]
  },
  {
   "cell_type": "code",
   "execution_count": null,
   "id": "480a984b",
   "metadata": {},
   "outputs": [],
   "source": [
    "Pkg.add(\"JuMP\")\n",
    "Pkg.status()"
   ]
  },
  {
   "cell_type": "markdown",
   "id": "b2e987bb",
   "metadata": {},
   "source": [
    "## Salir del entorno y ver estado global\n",
    "\n",
    "Podemos salir del entorno con `Pkg.activate()` (sin argumentos). Esto nos devuelve al entorno global."
   ]
  },
  {
   "cell_type": "code",
   "execution_count": null,
   "id": "2b4b8531",
   "metadata": {},
   "outputs": [],
   "source": [
    "Pkg.activate()  # Volver al entorno global\n",
    "Pkg.status()    # Mostrará el entorno global"
   ]
  },
  {
   "cell_type": "markdown",
   "id": "f581f05f",
   "metadata": {},
   "source": [
    "## Cargar entorno desde Project.toml\n",
    "\n",
    "Supongamos que descargamos un proyecto que ya tiene un archivo `Project.toml` y `Manifest.toml`.  \n",
    "Solo necesitamos activarlo e instalar dependencias con `instantiate`."
   ]
  },
  {
   "cell_type": "code",
   "execution_count": null,
   "id": "c5c94531",
   "metadata": {},
   "outputs": [],
   "source": [
    "Pkg.activate(\".\")       # Activar entorno del proyecto\n",
    "Pkg.instantiate()       # Instalar todas las dependencias definidas en el TOML\n",
    "Pkg.status()"
   ]
  }
 ],
 "metadata": {
  "kernelspec": {
   "display_name": "Julia 1.11.6",
   "language": "julia",
   "name": "julia-1.11"
  },
  "language_info": {
   "file_extension": ".jl",
   "mimetype": "application/julia",
   "name": "julia",
   "version": "1.11.6"
  }
 },
 "nbformat": 4,
 "nbformat_minor": 5
}
